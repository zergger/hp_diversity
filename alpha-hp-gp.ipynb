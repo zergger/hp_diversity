{
 "cells": [
  {
   "cell_type": "code",
   "execution_count": 1,
   "id": "4bd6b113",
   "metadata": {
    "scrolled": true
   },
   "outputs": [],
   "source": [
    "import pandas as pd\n",
    "import numpy as np\n",
    "import math\n",
    "import sys\n",
    "from scipy.special import xlogy"
   ]
  },
  {
   "cell_type": "code",
   "execution_count": 2,
   "id": "2daec7bc",
   "metadata": {},
   "outputs": [],
   "source": [
    "def d_chao(A, lev, q): \n",
    "    tot = np.sum(A)\n",
    "    if tot == 0:\n",
    "        return 0 \n",
    "    \n",
    "    eA = A / tot\n",
    "\n",
    "    cA = np.sum(A, axis=0)\n",
    "    N = A.shape[0]\n",
    "\n",
    "    ecA = cA / tot\n",
    "  \n",
    "    if lev == 'alpha':\n",
    "        if q != 1:\n",
    "            Da = (1 / N) * np.sum(eA**q)**(1 / (1 - q))\n",
    "            D_value = Da\n",
    "        else:\n",
    "            Da = np.exp(-np.sum(xlogy(eA, eA)) - np.log(N))\n",
    "            D_value = Da\n",
    "    \n",
    "    if lev == 'beta':\n",
    "        D_value = d_chao(A, lev='gamma', q=q) / d_chao(A, lev='alpha', q=q)\n",
    "    \n",
    "    if lev == 'gamma':\n",
    "        if q != 1:\n",
    "            Dg = np.sum(ecA**q)**(1 / (1 - q))\n",
    "            D_value = Dg\n",
    "        else:\n",
    "            Dg = np.exp(-np.sum(xlogy(ecA, ecA)))\n",
    "            D_value = Dg\n",
    "    \n",
    "    return D_value\n"
   ]
  },
  {
   "cell_type": "code",
   "execution_count": 3,
   "id": "6afe3417",
   "metadata": {},
   "outputs": [],
   "source": [
    "# Main process \n",
    "args = \"mother_mito_cheek.txt\"\n",
    "df = pd.read_csv(args, sep=\"\\t\")"
   ]
  },
  {
   "cell_type": "code",
   "execution_count": 4,
   "id": "bc9f77ea",
   "metadata": {
    "scrolled": false
   },
   "outputs": [],
   "source": [
    "# Calculating\n",
    "Alpha = []\n",
    "grouped_data = df.groupby('ID')\n",
    "for group_name, group_data in grouped_data:\n",
    "    group_array = np.nan_to_num(group_data.iloc[:, 1:].astype(float).values)\n",
    "    result = d_chao(group_array, \"alpha\", 1)\n",
    "    Alpha.append([group_name] + [result])\n",
    "Alpha = np.array(Alpha)"
   ]
  },
  {
   "cell_type": "code",
   "execution_count": 5,
   "id": "594cf11a",
   "metadata": {},
   "outputs": [],
   "source": [
    "#colnames = [\"ID\", \"q=0\", \"q=1\", \"q=2\", \"q=3\", \"q=4\"]\n",
    "colnames = [\"ID\", \"q=1\"]\n",
    "Alpha = pd.DataFrame(Alpha, columns=colnames)\n",
    "Alpha.to_csv(\"mother_mito_cheek_alpha111.txt\", sep=\"\\t\", index=False)"
   ]
  },
  {
   "cell_type": "code",
   "execution_count": null,
   "id": "dcf2dea4",
   "metadata": {},
   "outputs": [],
   "source": []
  }
 ],
 "metadata": {
  "kernelspec": {
   "display_name": "Python 3 (ipykernel)",
   "language": "python",
   "name": "python3"
  },
  "language_info": {
   "codemirror_mode": {
    "name": "ipython",
    "version": 3
   },
   "file_extension": ".py",
   "mimetype": "text/x-python",
   "name": "python",
   "nbconvert_exporter": "python",
   "pygments_lexer": "ipython3",
   "version": "3.8.9"
  }
 },
 "nbformat": 4,
 "nbformat_minor": 5
}
