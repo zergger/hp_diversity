{
 "cells": [
  {
   "cell_type": "code",
   "execution_count": 1,
   "id": "7ae321da",
   "metadata": {},
   "outputs": [],
   "source": [
    "import pandas as pd\n",
    "import numpy as np\n",
    "import math\n",
    "import sys\n",
    "from scipy.special import xlogy"
   ]
  },
  {
   "cell_type": "code",
   "execution_count": 2,
   "id": "1ad0dfff",
   "metadata": {},
   "outputs": [],
   "source": [
    "def d_chao(A, lev, q): \n",
    "    tot = np.sum(A)\n",
    "    if tot == 0:\n",
    "        return 0 \n",
    "    \n",
    "    eA = A / tot\n",
    "\n",
    "    cA = np.sum(A, axis=0)\n",
    "    N = A.shape[0]\n",
    "\n",
    "    ecA = cA / tot\n",
    "  \n",
    "    if lev == 'alpha':\n",
    "        if q != 1:\n",
    "            Da = (1 / N) * np.sum(eA**q)**(1 / (1 - q))\n",
    "            D_value = Da\n",
    "        else:\n",
    "            Da = np.exp(-np.sum(xlogy(eA, eA)) - np.log(N))\n",
    "            D_value = Da\n",
    "    \n",
    "    if lev == 'beta':\n",
    "        D_value = d_chao(A, lev='gamma', q=q) / d_chao(A, lev='alpha', q=q)\n",
    "    \n",
    "    if lev == 'gamma':\n",
    "        if q != 1:\n",
    "            Dg = np.sum(ecA**q)**(1 / (1 - q))\n",
    "            D_value = Dg\n",
    "        else:\n",
    "            Dg = np.exp(-np.sum(xlogy(ecA, ecA)))\n",
    "            D_value = Dg\n",
    "    \n",
    "    return D_value\n"
   ]
  },
  {
   "cell_type": "code",
   "execution_count": 3,
   "id": "5df15c1b",
   "metadata": {},
   "outputs": [],
   "source": [
    "def Cq(A, beta, q, N):\n",
    "    if q != 1:\n",
    "        cq = (((1 / beta) ** (q - 1)) - ((1 / N) ** (q - 1))) / (1 - (1 / N) ** (q - 1))\n",
    "    else:\n",
    "        cq = 1 - (np.log(1 / beta)/np.log(1 / N))\n",
    "    return cq"
   ]
  },
  {
   "cell_type": "code",
   "execution_count": 4,
   "id": "36417714",
   "metadata": {},
   "outputs": [],
   "source": [
    "def Uq(A, beta, q, N):\n",
    "    if q != 1:\n",
    "        uq = (((1 / beta) ** (1 - q)) - ((1 / N) ** (1 - q))) / (1 - (1 / N) ** (1 - q))\n",
    "    else:\n",
    "        uq = 1 - (np.log(1 / beta)/np.log(1 / N))    \n",
    "    return uq"
   ]
  },
  {
   "cell_type": "code",
   "execution_count": 5,
   "id": "edcd924f",
   "metadata": {},
   "outputs": [],
   "source": [
    "def Sq(A, beta, q, N):\n",
    "    sq = ((1 / beta) - (1 / N)) / (1 - 1 / N)\n",
    "    return sq\n",
    "\n",
    "def Vq(A, beta, q, N):\n",
    "    vq = 1 - ((beta - 1) / (N - 1))\n",
    "    return vq"
   ]
  },
  {
   "cell_type": "code",
   "execution_count": 6,
   "id": "be670054",
   "metadata": {},
   "outputs": [],
   "source": [
    "# Main process \n",
    "args = [\"blood_pcg_child_overall.txt\",\"blood_pcg_mother_overall.txt\"]\n",
    "df1 = pd.read_csv(args[0], sep=\"\\t\")\n",
    "df2 = pd.read_csv(args[1], sep=\"\\t\")"
   ]
  },
  {
   "cell_type": "code",
   "execution_count": 7,
   "id": "9b9580aa",
   "metadata": {},
   "outputs": [],
   "source": [
    "Res = pd.DataFrame(columns=[\"ID1\", \"ID2\", \"beta.D\", \"cq\"])\n",
    "visited_pairs = set()\n",
    "grouped_data1 = df1.groupby('ID')\n",
    "grouped_data2 = df2.groupby('ID')\n",
    "for group_name1, group_data1 in grouped_data1:\n",
    "    for group_name2, group_data2 in grouped_data2:\n",
    "        #if group_name1 == group_name2:\n",
    "            #continue\n",
    "        if (group_name1, group_name2) in visited_pairs or (group_name2, group_name1) in visited_pairs:\n",
    "            continue\n",
    "        visited_pairs.add((group_name1, group_name2))            \n",
    "        group_array1 = np.nan_to_num(group_data1.iloc[:, 1:].astype(float).values)\n",
    "        group_array2 = np.nan_to_num(group_data2.iloc[:, 1:].astype(float).values)\n",
    "        sda = np.vstack((group_array1, group_array2))\n",
    "        beta = d_chao(sda, \"beta\", 1)\n",
    "        cqn = Cq(sda, beta, 1, sda.shape[0]) \n",
    "        #uqn = Uq(sda, beta, 2, sda.shape[0]) \n",
    "        #sqn = Sq(sda, beta, 2, sda.shape[0]) \n",
    "        #vqn = Vq(sda, beta, 2, sda.shape[0]) \n",
    "        res = pd.DataFrame([[group_name1, group_name2, beta, cqn]], columns=[\"ID1\", \"ID2\", \"beta.D\", \"cq\"])\n",
    "        Res = pd.concat([Res, res], ignore_index=True)\n",
    "Res.to_csv(\"Beta-diversity-and-similarity_blood_pcg_child_mother111.txt\", sep=\"\\t\", index=False)"
   ]
  },
  {
   "cell_type": "code",
   "execution_count": null,
   "id": "32d71f61",
   "metadata": {},
   "outputs": [],
   "source": []
  }
 ],
 "metadata": {
  "kernelspec": {
   "display_name": "Python 3 (ipykernel)",
   "language": "python",
   "name": "python3"
  },
  "language_info": {
   "codemirror_mode": {
    "name": "ipython",
    "version": 3
   },
   "file_extension": ".py",
   "mimetype": "text/x-python",
   "name": "python",
   "nbconvert_exporter": "python",
   "pygments_lexer": "ipython3",
   "version": "3.8.9"
  }
 },
 "nbformat": 4,
 "nbformat_minor": 5
}
